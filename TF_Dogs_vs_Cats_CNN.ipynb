{
  "nbformat": 4,
  "nbformat_minor": 0,
  "metadata": {
    "colab": {
      "name": "TF-Dogs-vs-Cats-CNN.ipynb",
      "provenance": [],
      "collapsed_sections": [],
      "authorship_tag": "ABX9TyPjExYjqzgE+vONezlrWifJ",
      "include_colab_link": true
    },
    "kernelspec": {
      "name": "python3",
      "display_name": "Python 3"
    },
    "language_info": {
      "name": "python"
    },
    "accelerator": "TPU"
  },
  "cells": [
    {
      "cell_type": "markdown",
      "metadata": {
        "id": "view-in-github",
        "colab_type": "text"
      },
      "source": [
        "<a href=\"https://colab.research.google.com/github/AbiramiMuthu/TensorFlow-CNN-Dogs-Vs-Cats-Kaggle/blob/main/TF_Dogs_vs_Cats_CNN.ipynb\" target=\"_parent\"><img src=\"https://colab.research.google.com/assets/colab-badge.svg\" alt=\"Open In Colab\"/></a>"
      ]
    },
    {
      "cell_type": "markdown",
      "metadata": {
        "id": "r02kTY_80Zjv"
      },
      "source": [
        "## Loading a Dataset from Kaggle to colab using API token\n",
        "\n",
        "### Download the API token file it will be kaggle.json\n",
        "\n",
        "### upload that kaggle.json file in colab\n",
        "\n",
        "#### create a folder .Kaggle and place the file in that folder\n",
        "\n",
        "#### There will be a link available under Data folder of a chosen competition in kaggle ,copy and paste it \n",
        "\n",
        "#### The file will be in the left files pane"
      ]
    },
    {
      "cell_type": "code",
      "metadata": {
        "id": "QDibOuUS1QWt"
      },
      "source": [
        "!pip install -q kaggle\n"
      ],
      "execution_count": null,
      "outputs": []
    },
    {
      "cell_type": "code",
      "metadata": {
        "id": "4Z3Slqfl1ZFK"
      },
      "source": [
        "!mkdir -p ~/.kaggle"
      ],
      "execution_count": null,
      "outputs": []
    },
    {
      "cell_type": "code",
      "metadata": {
        "id": "bYz-UvAy1xF4"
      },
      "source": [
        "!cp kaggle.json ~/.kaggle/\n"
      ],
      "execution_count": null,
      "outputs": []
    },
    {
      "cell_type": "code",
      "metadata": {
        "id": "bhgMnnQA2AOE"
      },
      "source": [
        "!chmod 600 ~/.kaggle/kaggle.json"
      ],
      "execution_count": null,
      "outputs": []
    },
    {
      "cell_type": "code",
      "metadata": {
        "colab": {
          "base_uri": "https://localhost:8080/"
        },
        "id": "E76d0lnm2MJo",
        "outputId": "1d57f871-e0aa-44a5-8ca2-393be1a97895"
      },
      "source": [
        "!kaggle competitions download -c dogs-vs-cats"
      ],
      "execution_count": null,
      "outputs": [
        {
          "output_type": "stream",
          "text": [
            "Warning: Looks like you're using an outdated API Version, please consider updating (server 1.5.12 / client 1.5.4)\n",
            "Downloading train.zip to /content\n",
            " 97% 529M/543M [00:03<00:00, 169MB/s]\n",
            "100% 543M/543M [00:03<00:00, 172MB/s]\n",
            "Downloading sampleSubmission.csv to /content\n",
            "  0% 0.00/86.8k [00:00<?, ?B/s]\n",
            "100% 86.8k/86.8k [00:00<00:00, 148MB/s]\n",
            "Downloading test1.zip to /content\n",
            " 96% 259M/271M [00:01<00:00, 169MB/s]\n",
            "100% 271M/271M [00:01<00:00, 172MB/s]\n"
          ],
          "name": "stdout"
        }
      ]
    },
    {
      "cell_type": "markdown",
      "metadata": {
        "id": "v8fxk2JXgb5j"
      },
      "source": [
        "### The images are not structured in kaggle train folder has both dogs and cats images. we need a structured datset so i am dowloading a structured dogs vs cats dataset from the below github link"
      ]
    },
    {
      "cell_type": "code",
      "metadata": {
        "id": "bjsxeJ67JLtF",
        "colab": {
          "base_uri": "https://localhost:8080/"
        },
        "outputId": "b1e744af-583f-4235-ba32-aa78f6e9ea84"
      },
      "source": [
        "!git clone https://github.com/laxmimerit/dog-cat-full-dataset.git"
      ],
      "execution_count": null,
      "outputs": [
        {
          "output_type": "stream",
          "text": [
            "Cloning into 'dog-cat-full-dataset'...\n",
            "remote: Enumerating objects: 25027, done.\u001b[K\n",
            "remote: Total 25027 (delta 0), reused 0 (delta 0), pack-reused 25027\u001b[K\n",
            "Receiving objects: 100% (25027/25027), 541.62 MiB | 34.68 MiB/s, done.\n",
            "Resolving deltas: 100% (5/5), done.\n",
            "Checking out files: 100% (25001/25001), done.\n"
          ],
          "name": "stdout"
        }
      ]
    },
    {
      "cell_type": "markdown",
      "metadata": {
        "id": "em-tbwY-hE1D"
      },
      "source": [
        "### Change the Edit-->Notebook settings ----> choose TPU"
      ]
    },
    {
      "cell_type": "markdown",
      "metadata": {
        "id": "3aDtkykkhQEA"
      },
      "source": [
        "### Import libraries"
      ]
    },
    {
      "cell_type": "code",
      "metadata": {
        "id": "UntoobMOhEYg"
      },
      "source": [
        "import tensorflow as tf\n",
        "from tensorflow import keras\n",
        "from tensorflow.keras import Sequential\n",
        "from tensorflow.keras.layers import Flatten,Dense,Conv2D,MaxPool2D,Dropout,BatchNormalization,ZeroPadding2D\n",
        "from tensorflow.keras.preprocessing.image import ImageDataGenerator\n",
        "from tensorflow.keras.optimizers import SGD"
      ],
      "execution_count": null,
      "outputs": []
    },
    {
      "cell_type": "code",
      "metadata": {
        "id": "UF-c-O4VftUT"
      },
      "source": [
        "import numpy as np\n",
        "import matplotlib.pyplot as plt"
      ],
      "execution_count": null,
      "outputs": []
    },
    {
      "cell_type": "code",
      "metadata": {
        "id": "1j6qU0QEiEeX"
      },
      "source": [
        "train_data_dir=\"/content/dog-cat-full-dataset/data/train\"\n",
        "test_data_dir=\"/content/dog-cat-full-dataset/data/test\""
      ],
      "execution_count": null,
      "outputs": []
    },
    {
      "cell_type": "code",
      "metadata": {
        "id": "u-cmigbRimB5"
      },
      "source": [
        "#size of the image is large we can set to 32,32 for simple purposes\n",
        "\n",
        "img_width=32\n",
        "img_height=32\n",
        "batch_size=20"
      ],
      "execution_count": null,
      "outputs": []
    },
    {
      "cell_type": "markdown",
      "metadata": {
        "id": "HQuOr1fXwyz9"
      },
      "source": [
        "######  Our original images consist in RGB coefficients in the 0-255, but such values would be too high for our model to process (given a typical learning rate), so we target values between 0 and 1 instead by scaling with a 1/255"
      ]
    },
    {
      "cell_type": "code",
      "metadata": {
        "id": "lK91jczcw1Tn"
      },
      "source": [
        "#Generate batches of tensor image data\n",
        "datagen =ImageDataGenerator(rescale=1./255)"
      ],
      "execution_count": null,
      "outputs": []
    },
    {
      "cell_type": "code",
      "metadata": {
        "colab": {
          "base_uri": "https://localhost:8080/"
        },
        "id": "2AjXUzDQxP3S",
        "outputId": "a43dc50b-9497-4433-a7bb-5f6b04f69365"
      },
      "source": [
        "train_generator=datagen.flow_from_directory(train_data_dir,target_size=(img_width,img_height),\n",
        "                                            classes=[\"dogs\",\"cats\"],class_mode='binary',batch_size=batch_size)"
      ],
      "execution_count": null,
      "outputs": [
        {
          "output_type": "stream",
          "text": [
            "Found 20000 images belonging to 2 classes.\n"
          ],
          "name": "stdout"
        }
      ]
    },
    {
      "cell_type": "code",
      "metadata": {
        "colab": {
          "base_uri": "https://localhost:8080/"
        },
        "id": "RCUC0cJA0i1q",
        "outputId": "29f8d464-73e5-4660-9885-3c23afc81a42"
      },
      "source": [
        "validation_generator=datagen.flow_from_directory(test_data_dir,target_size=(img_width,img_height),\n",
        "                                            classes=[\"dogs\",\"cats\"],class_mode='binary',batch_size=batch_size)"
      ],
      "execution_count": null,
      "outputs": [
        {
          "output_type": "stream",
          "text": [
            "Found 5000 images belonging to 2 classes.\n"
          ],
          "name": "stdout"
        }
      ]
    },
    {
      "cell_type": "code",
      "metadata": {
        "colab": {
          "base_uri": "https://localhost:8080/"
        },
        "id": "sPCP34My0ptR",
        "outputId": "a19d6979-3ded-4860-fa40-0e9e6564c1fa"
      },
      "source": [
        "# len*20 bcoz each each batch has 20\n",
        "len(train_generator)"
      ],
      "execution_count": null,
      "outputs": [
        {
          "output_type": "execute_result",
          "data": {
            "text/plain": [
              "1000"
            ]
          },
          "metadata": {
            "tags": []
          },
          "execution_count": 15
        }
      ]
    },
    {
      "cell_type": "code",
      "metadata": {
        "colab": {
          "base_uri": "https://localhost:8080/"
        },
        "id": "2zgfhPqE0sV8",
        "outputId": "3ab39e73-8155-457a-a0bf-757e4832fac6"
      },
      "source": [
        "len(validation_generator)"
      ],
      "execution_count": null,
      "outputs": [
        {
          "output_type": "execute_result",
          "data": {
            "text/plain": [
              "250"
            ]
          },
          "metadata": {
            "tags": []
          },
          "execution_count": 16
        }
      ]
    },
    {
      "cell_type": "markdown",
      "metadata": {
        "id": "DFbqVcg82VNg"
      },
      "source": [
        "## Build the CNN Model"
      ]
    },
    {
      "cell_type": "code",
      "metadata": {
        "id": "OrjzdO_e1CJg"
      },
      "source": [
        "model=Sequential()\n",
        "model.add(Conv2D(filters=64,kernel_size=(3,3),padding='same',activation='relu',kernel_initializer='he_uniform',input_shape=(img_width,img_height,3)))\n",
        "model.add(MaxPool2D(pool_size=(2,2)))\n",
        "\n",
        "model.add(Flatten())\n",
        "model.add(Dense(128,activation='relu',kernel_initializer='he_uniform'))\n",
        "model.add(Dense(1,activation='sigmoid'))"
      ],
      "execution_count": null,
      "outputs": []
    },
    {
      "cell_type": "code",
      "metadata": {
        "id": "jSk3Ok7s3uLe"
      },
      "source": [
        "opt=SGD(learning_rate=0.01,momentum=0.9)\n",
        "model.compile(optimizer=opt,loss='binary_crossentropy',metrics=['accuracy'])"
      ],
      "execution_count": null,
      "outputs": []
    },
    {
      "cell_type": "code",
      "metadata": {
        "colab": {
          "base_uri": "https://localhost:8080/"
        },
        "id": "J3TsrYyQ484O",
        "outputId": "a2ec3109-8384-4b07-e188-6edb6e8e4dbd"
      },
      "source": [
        "#since using DataGenerator we use fit_generator\n",
        "# steps_per_epoch: Total number of steps (batches of samples) to yield from generator before declaring one epoch finished and starting the next epoch. It should typically be equal to the number of unique samples of your dataset divided by the batch size.\n",
        "history=model.fit_generator(train_generator,steps_per_epoch=len(train_generator),epochs=5,validation_data=validation_generator,validation_steps=len(validation_generator),verbose=1)"
      ],
      "execution_count": null,
      "outputs": [
        {
          "output_type": "stream",
          "text": [
            "/usr/local/lib/python3.7/dist-packages/tensorflow/python/keras/engine/training.py:1940: UserWarning: `Model.fit_generator` is deprecated and will be removed in a future version. Please use `Model.fit`, which supports generators.\n",
            "  warnings.warn('`Model.fit_generator` is deprecated and '\n"
          ],
          "name": "stderr"
        },
        {
          "output_type": "stream",
          "text": [
            "Epoch 1/5\n",
            "1000/1000 [==============================] - 104s 103ms/step - loss: 0.6949 - accuracy: 0.5150 - val_loss: 0.6703 - val_accuracy: 0.5816\n",
            "Epoch 2/5\n",
            "1000/1000 [==============================] - 100s 100ms/step - loss: 0.6901 - accuracy: 0.5252 - val_loss: 0.6895 - val_accuracy: 0.5132\n",
            "Epoch 3/5\n",
            "1000/1000 [==============================] - 102s 102ms/step - loss: 0.6179 - accuracy: 0.6554 - val_loss: 0.5540 - val_accuracy: 0.7220\n",
            "Epoch 4/5\n",
            "1000/1000 [==============================] - 107s 107ms/step - loss: 0.5350 - accuracy: 0.7351 - val_loss: 0.5203 - val_accuracy: 0.7336\n",
            "Epoch 5/5\n",
            "1000/1000 [==============================] - 107s 107ms/step - loss: 0.4963 - accuracy: 0.7597 - val_loss: 0.5271 - val_accuracy: 0.7360\n"
          ],
          "name": "stdout"
        }
      ]
    },
    {
      "cell_type": "code",
      "metadata": {
        "colab": {
          "base_uri": "https://localhost:8080/"
        },
        "id": "bJiX2JYUL33R",
        "outputId": "eb32f715-af32-4953-b384-8d1f34e7750f"
      },
      "source": [
        "history.history"
      ],
      "execution_count": null,
      "outputs": [
        {
          "output_type": "execute_result",
          "data": {
            "text/plain": [
              "{'accuracy': [0.5150499939918518,\n",
              "  0.5251500010490417,\n",
              "  0.6553999781608582,\n",
              "  0.7351499795913696,\n",
              "  0.7597000002861023],\n",
              " 'loss': [0.6949349641799927,\n",
              "  0.6900608539581299,\n",
              "  0.6179431676864624,\n",
              "  0.5349929928779602,\n",
              "  0.4963231086730957],\n",
              " 'val_accuracy': [0.58160001039505,\n",
              "  0.5131999850273132,\n",
              "  0.722000002861023,\n",
              "  0.7336000204086304,\n",
              "  0.7360000014305115],\n",
              " 'val_loss': [0.6702841520309448,\n",
              "  0.6894854307174683,\n",
              "  0.553984522819519,\n",
              "  0.5203025937080383,\n",
              "  0.5270782709121704]}"
            ]
          },
          "metadata": {
            "tags": []
          },
          "execution_count": 20
        }
      ]
    },
    {
      "cell_type": "code",
      "metadata": {
        "id": "aguHLB4s6MMJ"
      },
      "source": [
        "def plot_learningCurve(history,epoch):\n",
        "  epochrange=range(1,epoch+1)\n",
        "  plt.plot(epochrange,history.history['accuracy'])\n",
        "  plt.plot(epochrange,history.history['val_accuracy'])\n",
        "  plt.xlabel(\"Epochs\")\n",
        "  plt.ylabel(\"Accuracy\")\n",
        "  plt.title(\"Accuracy Curve\")\n",
        "  plt.legend([\"train\",\"test\"],loc=\"upper left\")\n",
        "  plt.show()\n",
        "\n",
        "  plt.plot(epochrange,history.history['loss'])\n",
        "  plt.plot(epochrange,history.history['val_loss'])\n",
        "  plt.xlabel(\"Epochs\")\n",
        "  plt.ylabel(\"Accuracy\")\n",
        "  plt.title(\"Loss Curve\")\n",
        "  plt.legend([\"train\",\"test\"],loc=\"upper left\")\n",
        "  plt.show()\n"
      ],
      "execution_count": null,
      "outputs": []
    },
    {
      "cell_type": "code",
      "metadata": {
        "colab": {
          "base_uri": "https://localhost:8080/",
          "height": 573
        },
        "id": "kXV4VfijNpth",
        "outputId": "9d5513e3-1b9d-4f3f-a22d-fa10e2fb46ad"
      },
      "source": [
        "plot_learningCurve(history,5)"
      ],
      "execution_count": null,
      "outputs": [
        {
          "output_type": "display_data",
          "data": {
            "image/png": "[encoded data removed]",
            "text/plain": [
              "<Figure size 432x288 with 1 Axes>"
            ]
          },
          "metadata": {
            "tags": [],
            "needs_background": "light"
          }
        },
        {
          "output_type": "display_data",
          "data": {
            "image/png": "[encoded data removed]",
            "text/plain": [
              "<Figure size 432x288 with 1 Axes>"
            ]
          },
          "metadata": {
            "tags": [],
            "needs_background": "light"
          }
        }
      ]
    },
    {
      "cell_type": "markdown",
      "metadata": {
        "id": "8sQvbx7UQNeW"
      },
      "source": [
        "### Using BatchNormalization and Dropout"
      ]
    },
    {
      "cell_type": "code",
      "metadata": {
        "id": "0wKHzxuEPXHj"
      },
      "source": [
        "model=Sequential()\n",
        "model.add(Conv2D(filters=64,kernel_size=(3,3),padding='same',activation='relu',kernel_initializer='he_uniform',input_shape=(img_width,img_height,3)))\n",
        "model.add(BatchNormalization())\n",
        "model.add(MaxPool2D(pool_size=(2,2)))\n",
        "model.add(Dropout(0.2))\n",
        "\n",
        "model.add(Conv2D(filters=128,kernel_size=(3,3),padding='same',activation='relu',kernel_initializer='he_uniform'))\n",
        "model.add(BatchNormalization())\n",
        "model.add(MaxPool2D(pool_size=(2,2)))\n",
        "model.add(Dropout(0.3))\n",
        "\n",
        "model.add(Conv2D(filters=256,kernel_size=(3,3),padding='same',activation='relu',kernel_initializer='he_uniform'))\n",
        "model.add(BatchNormalization())\n",
        "model.add(MaxPool2D(pool_size=(2,2)))\n",
        "model.add(Dropout(0.5))\n",
        "\n",
        "model.add(Flatten())\n",
        "model.add(Dense(128,activation='relu',kernel_initializer='he_uniform'))\n",
        "model.add(BatchNormalization())\n",
        "model.add(Dropout(0.5))\n",
        "\n",
        "model.add(Dense(1,activation='sigmoid'))"
      ],
      "execution_count": null,
      "outputs": []
    },
    {
      "cell_type": "code",
      "metadata": {
        "id": "8h5sX2IGRZa2"
      },
      "source": [
        "opt=SGD(learning_rate=0.01,momentum=0.9)\n",
        "model.compile(optimizer=opt,loss='binary_crossentropy',metrics=['accuracy'])"
      ],
      "execution_count": null,
      "outputs": []
    },
    {
      "cell_type": "code",
      "metadata": {
        "colab": {
          "base_uri": "https://localhost:8080/"
        },
        "id": "12SZEjkFRe2F",
        "outputId": "02ef8a9c-d653-4a43-c89b-92becd15c930"
      },
      "source": [
        "history=model.fit_generator(train_generator,steps_per_epoch=len(train_generator),epochs=5,validation_data=validation_generator,validation_steps=len(validation_generator),verbose=1)"
      ],
      "execution_count": null,
      "outputs": [
        {
          "output_type": "stream",
          "text": [
            "/usr/local/lib/python3.7/dist-packages/tensorflow/python/keras/engine/training.py:1940: UserWarning: `Model.fit_generator` is deprecated and will be removed in a future version. Please use `Model.fit`, which supports generators.\n",
            "  warnings.warn('`Model.fit_generator` is deprecated and '\n"
          ],
          "name": "stderr"
        },
        {
          "output_type": "stream",
          "text": [
            "Epoch 1/5\n",
            "1000/1000 [==============================] - 241s 240ms/step - loss: 0.6924 - accuracy: 0.6187 - val_loss: 0.6495 - val_accuracy: 0.6642\n",
            "Epoch 2/5\n",
            "1000/1000 [==============================] - 236s 236ms/step - loss: 0.6220 - accuracy: 0.6692 - val_loss: 0.5375 - val_accuracy: 0.7324\n",
            "Epoch 3/5\n",
            "1000/1000 [==============================] - 236s 236ms/step - loss: 0.5642 - accuracy: 0.7135 - val_loss: 0.5706 - val_accuracy: 0.6990\n",
            "Epoch 4/5\n",
            "1000/1000 [==============================] - 241s 241ms/step - loss: 0.5393 - accuracy: 0.7345 - val_loss: 0.5107 - val_accuracy: 0.7448\n",
            "Epoch 5/5\n",
            "1000/1000 [==============================] - 239s 239ms/step - loss: 0.5076 - accuracy: 0.7545 - val_loss: 0.5122 - val_accuracy: 0.7548\n"
          ],
          "name": "stdout"
        }
      ]
    },
    {
      "cell_type": "code",
      "metadata": {
        "colab": {
          "base_uri": "https://localhost:8080/",
          "height": 573
        },
        "id": "UJpw-r-bRtvN",
        "outputId": "a9ab3b3b-e4b8-44fe-9dd9-44a638756918"
      },
      "source": [
        "plot_learningCurve(history,5)"
      ],
      "execution_count": null,
      "outputs": [
        {
          "output_type": "display_data",
          "data": {
            "image/png": "[encoded data removed]",
            "text/plain": [
              "<Figure size 432x288 with 1 Axes>"
            ]
          },
          "metadata": {
            "tags": [],
            "needs_background": "light"
          }
        },
        {
          "output_type": "display_data",
          "data": {
            "image/png": "[encoded data removed]",
            "text/plain": [
              "<Figure size 432x288 with 1 Axes>"
            ]
          },
          "metadata": {
            "tags": [],
            "needs_background": "light"
          }
        }
      ]
    },
    {
      "cell_type": "code",
      "metadata": {
        "id": "tku6UyrzhL1R"
      },
      "source": [
        ""
      ],
      "execution_count": null,
      "outputs": []
    }
  ]
}